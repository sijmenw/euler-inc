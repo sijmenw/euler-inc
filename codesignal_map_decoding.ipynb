{
 "cells": [
  {
   "cell_type": "markdown",
   "metadata": {},
   "source": [
    "# Implementation for mapDecoding challenge on CodeSignal\n",
    "Challenge can be found [here](https://app.codesignal.com/challenge/K7d4tLBrAH29JbhFi).\n",
    "\n",
    "Solution one provides more insight but is significantly slower because of O(n) lookup complexity of dict.\n",
    "\n",
    "Solution two succeeds.\n",
    "\n",
    "Both solutions check for valid messages and will return 0 if a message is not valid\n",
    "\n",
    "Answer is requested modulo 10 ** 9 + 7, therefore intermediate variables do also not need exceed this value"
   ]
  },
  {
   "cell_type": "code",
   "execution_count": 1,
   "metadata": {},
   "outputs": [],
   "source": [
    "def mapDecoding(message):\n",
    "    \"\"\"This implementation builds a full map of number of possibilities for each substring of the message\n",
    "    \"\"\"\n",
    "    count_map = {'': 1}\n",
    "    for i in range(1, len(message)+1):\n",
    "        valid = False\n",
    "\n",
    "        if 0 < int(message[:i][-1:]) < 10:\n",
    "            valid = True\n",
    "            count_map[message[:i]] = count_map[message[:i][:i-1]]\n",
    "\n",
    "        if 10 <= int(message[:i][-2:]) < 27:\n",
    "            valid = True\n",
    "            try:\n",
    "                count_map[message[:i]] += count_map[message[:i][:i-2]]\n",
    "            except KeyError:\n",
    "                count_map[message[:i]] = count_map[message[:i][:i-2]]\n",
    "        \n",
    "        if valid is False:\n",
    "            return 0\n",
    "        \n",
    "        if count_map[message[:i]] > (10 ** 9 + 7):\n",
    "            count_map[message[:i]] = count_map[message[:i]] % (10 ** 9 + 7)\n",
    "    \n",
    "    return count_map, count_map[message] % (10 ** 9 + 7)"
   ]
  },
  {
   "cell_type": "code",
   "execution_count": 2,
   "metadata": {},
   "outputs": [],
   "source": [
    "def mapDecoding2(message):\n",
    "    \"\"\"This implementation tracks only the number of possibilities for the previous two substrings\n",
    "       adds either or both depending on the last number of current substring\n",
    "    \"\"\"\n",
    "    min_2 = 1\n",
    "    min_1 = 1\n",
    "    \n",
    "    for i in range(1, len(message)+1):\n",
    "        valid = False\n",
    "\n",
    "        if 0 < int(message[:i][-1:]) < 10:\n",
    "            valid = True\n",
    "            new = min_1\n",
    "\n",
    "        if 10 <= int(message[:i][-2:]) < 27:\n",
    "            valid = True\n",
    "            new += min_2\n",
    "        \n",
    "        if valid is False:\n",
    "            return 0\n",
    "        \n",
    "        if new > (10 ** 9 + 7):\n",
    "            new = new % (10 ** 9 + 7)\n",
    "            \n",
    "        min_2 = min_1\n",
    "        min_1 = new\n",
    "        new = 0\n",
    "    \n",
    "    return min_1 % (10 ** 9 + 7)"
   ]
  },
  {
   "cell_type": "markdown",
   "metadata": {},
   "source": [
    "### Timing tests for both implementations with maximum message size (10^5)"
   ]
  },
  {
   "cell_type": "code",
   "execution_count": 3,
   "metadata": {},
   "outputs": [],
   "source": [
    "import numpy as np"
   ]
  },
  {
   "cell_type": "code",
   "execution_count": 4,
   "metadata": {},
   "outputs": [],
   "source": [
    "# generate message string\n",
    "arr = np.zeros(50000, dtype=np.uint8)\n",
    "arr += 1\n",
    "long_msg = \"\".join([\"\" + str(x) for x in arr])"
   ]
  },
  {
   "cell_type": "code",
   "execution_count": 5,
   "metadata": {},
   "outputs": [
    {
     "name": "stdout",
     "output_type": "stream",
     "text": [
      "4.59 s ± 107 ms per loop (mean ± std. dev. of 7 runs, 1 loop each)\n"
     ]
    }
   ],
   "source": [
    "%%timeit\n",
    "mapDecoding(long_msg)"
   ]
  },
  {
   "cell_type": "code",
   "execution_count": 6,
   "metadata": {},
   "outputs": [
    {
     "name": "stdout",
     "output_type": "stream",
     "text": [
      "114 ms ± 714 µs per loop (mean ± std. dev. of 7 runs, 10 loops each)\n"
     ]
    }
   ],
   "source": [
    "%%timeit\n",
    "mapDecoding2(long_msg)"
   ]
  }
 ],
 "metadata": {
  "kernelspec": {
   "display_name": "Python 3",
   "language": "python",
   "name": "python3"
  },
  "language_info": {
   "codemirror_mode": {
    "name": "ipython",
    "version": 3
   },
   "file_extension": ".py",
   "mimetype": "text/x-python",
   "name": "python",
   "nbconvert_exporter": "python",
   "pygments_lexer": "ipython3",
   "version": "3.8.2"
  }
 },
 "nbformat": 4,
 "nbformat_minor": 4
}
