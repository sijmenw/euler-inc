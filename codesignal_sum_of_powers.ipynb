{
 "cells": [
  {
   "cell_type": "markdown",
   "metadata": {},
   "source": [
    "### Original problem:\n",
    "For each integer from 1 to n find the maximal power p of the given divisor such that divisorp divides the current number. The algorithm should return the sum of those powers.\n",
    "\n",
    "Example\n",
    "\n",
    "For n = 6 and divisor = 2, the output should be\n",
    "sumOfPowers(n, divisor) = 4.\n",
    "\n",
    "Explanation: 0 + 1 + 0 + 2 + 0 + 1 = 4.\n",
    "\n",
    "Input/Output\n",
    "\n",
    "[execution time limit] 4 seconds (py)\n",
    "\n",
    "[input] integer n\n",
    "\n",
    "Guaranteed constraints:\n",
    "1 ≤ n ≤ 1000.\n",
    "\n",
    "[input] integer divisor\n",
    "\n",
    "Guaranteed constraints:\n",
    "2 ≤ divisor ≤ 1000.\n",
    "\n",
    "[output] integer"
   ]
  },
  {
   "cell_type": "code",
   "execution_count": 40,
   "metadata": {},
   "outputs": [],
   "source": [
    "f = sumOfPowers = lambda n, d: n and n//d + f(n/d, d)"
   ]
  },
  {
   "cell_type": "code",
   "execution_count": 41,
   "metadata": {},
   "outputs": [
    {
     "data": {
      "text/plain": [
       "4.0"
      ]
     },
     "execution_count": 41,
     "metadata": {},
     "output_type": "execute_result"
    }
   ],
   "source": [
    "sumOfPowers(6, 2)"
   ]
  },
  {
   "cell_type": "code",
   "execution_count": 47,
   "metadata": {},
   "outputs": [],
   "source": [
    "f = sumOfPowers = lambda n, d: (n//d + f(n/d, d))"
   ]
  },
  {
   "cell_type": "code",
   "execution_count": 64,
   "metadata": {},
   "outputs": [],
   "source": [
    "def sumOfPowers(n, d):\n",
    "    if n == 0:\n",
    "        return 0\n",
    "    \n",
    "    x = n //d\n",
    "\n",
    "    return x + sumOfPowers(n/d, d)"
   ]
  },
  {
   "cell_type": "code",
   "execution_count": 56,
   "metadata": {},
   "outputs": [],
   "source": [
    "def sumOfPowers2(n, divisor):\n",
    "    res = 0\n",
    "    for i in range(1, n+1):\n",
    "        max_p = 0\n",
    "        \n",
    "        while i % (divisor ** (max_p + 1)) == 0:\n",
    "            max_p += 1\n",
    "        \n",
    "        res += max_p\n",
    "    \n",
    "    return res"
   ]
  },
  {
   "cell_type": "code",
   "execution_count": 60,
   "metadata": {},
   "outputs": [
    {
     "data": {
      "text/plain": [
       "True"
      ]
     },
     "execution_count": 60,
     "metadata": {},
     "output_type": "execute_result"
    }
   ],
   "source": [
    "def same():\n",
    "    for i in range(1, 1000):\n",
    "        for j in range(2, 1000):\n",
    "            one = sumOfPowers(i,j)\n",
    "            two = sumOfPowers2(i,j)\n",
    "            \n",
    "            if one != two:\n",
    "                return False\n",
    "    return True\n",
    "\n",
    "same()    "
   ]
  },
  {
   "cell_type": "code",
   "execution_count": 62,
   "metadata": {},
   "outputs": [
    {
     "name": "stdout",
     "output_type": "stream",
     "text": [
      "278 µs ± 5.69 µs per loop (mean ± std. dev. of 7 runs, 1000 loops each)\n"
     ]
    }
   ],
   "source": [
    "%%timeit\n",
    "sumOfPowers(6,2)"
   ]
  },
  {
   "cell_type": "code",
   "execution_count": 63,
   "metadata": {},
   "outputs": [
    {
     "name": "stdout",
     "output_type": "stream",
     "text": [
      "3.16 µs ± 66 ns per loop (mean ± std. dev. of 7 runs, 100000 loops each)\n"
     ]
    }
   ],
   "source": [
    "%%timeit\n",
    "sumOfPowers2(6,2)"
   ]
  },
  {
   "cell_type": "code",
   "execution_count": 65,
   "metadata": {},
   "outputs": [
    {
     "name": "stdout",
     "output_type": "stream",
     "text": [
      "542 ns ± 14 ns per loop (mean ± std. dev. of 7 runs, 1000000 loops each)\n"
     ]
    }
   ],
   "source": [
    "%%timeit\n",
    "sumOfPowers(6,2)"
   ]
  }
 ],
 "metadata": {
  "kernelspec": {
   "display_name": "Python 3",
   "language": "python",
   "name": "python3"
  },
  "language_info": {
   "codemirror_mode": {
    "name": "ipython",
    "version": 3
   },
   "file_extension": ".py",
   "mimetype": "text/x-python",
   "name": "python",
   "nbconvert_exporter": "python",
   "pygments_lexer": "ipython3",
   "version": "3.8.2"
  }
 },
 "nbformat": 4,
 "nbformat_minor": 4
}
