{
 "cells": [
  {
   "cell_type": "markdown",
   "metadata": {},
   "source": [
    "# Compose Expression\n",
    "\n",
    "Given a string that contains only digits 0-9 and a target value, return all expressions that are created by adding some binary operators (+, -, or *) between the digits so they evaluate to the target value.\n",
    "\n",
    "In some cases there may not be any binary operators that will create valid expressions, in which case the function should return an empty array. The numbers in the new expressions should not contain leading zeros.\n",
    "\n",
    "The function should return all valid expressions that evaluate to target, sorted lexicographically.\n",
    "\n",
    "Example\n",
    "\n",
    "For digits = \"123\" and target = 6, the output should be\n",
    "`composeExpression(digits, target) = [\"1*2*3\", \"1+2+3\"]`."
   ]
  },
  {
   "cell_type": "code",
   "execution_count": 1,
   "metadata": {},
   "outputs": [],
   "source": [
    "import re\n",
    "from itertools import product"
   ]
  },
  {
   "cell_type": "markdown",
   "metadata": {},
   "source": [
    "### Filter using regex first"
   ]
  },
  {
   "cell_type": "code",
   "execution_count": 2,
   "metadata": {},
   "outputs": [],
   "source": [
    "def composeExpression(digits, target):\n",
    "    res = []\n",
    "    \n",
    "    # try all combinations of multiply, add, subtract\n",
    "    # underscore resembles no operator between numbers\n",
    "    for x in product(\"*+-_\", repeat=len(digits)-1):\n",
    "        string = digits[0] + \"\".join([e+d for d,e in zip(digits[1:], x)])\n",
    "        string = string.replace(\"_\", \"\")\n",
    "\n",
    "        if len(re.findall(\"([^0-9][0]+[0-9])|(^[0]+[0-9])\", string)) > 0:\n",
    "            continue\n",
    "        \n",
    "        if eval(string) == target:\n",
    "            res.append(string)\n",
    "    \n",
    "    return res"
   ]
  },
  {
   "cell_type": "markdown",
   "metadata": {},
   "source": [
    "### Try except for SyntaxError on leading zeros, filter on regex later only when target is correct\n",
    "Turns out: regex is super fast and outperforms the try/except"
   ]
  },
  {
   "cell_type": "code",
   "execution_count": 3,
   "metadata": {},
   "outputs": [],
   "source": [
    "def composeExpression2(digits, target):\n",
    "    res = []\n",
    "    \n",
    "    for x in product(\"*+-_\", repeat=len(digits)-1):\n",
    "        string = digits[0] + \"\".join([e+d for d,e in zip(digits[1:], x)])\n",
    "        string = string.replace(\"_\", \"\")\n",
    "        \n",
    "        try:\n",
    "            if eval(string) == target:\n",
    "                if len(re.findall(\"([^0-9][0]+[0-9])|(^[0]+[0-9])\", string)) > 0:\n",
    "                    continue\n",
    "                res.append(string)\n",
    "        except SyntaxError:\n",
    "            pass\n",
    "    \n",
    "    return res"
   ]
  },
  {
   "cell_type": "code",
   "execution_count": 4,
   "metadata": {},
   "outputs": [
    {
     "name": "stdout",
     "output_type": "stream",
     "text": [
      "1.18 s ± 11.5 ms per loop (mean ± std. dev. of 7 runs, 1 loop each)\n"
     ]
    }
   ],
   "source": [
    "%%timeit\n",
    "composeExpression(\"5000060000\", -10000)"
   ]
  },
  {
   "cell_type": "code",
   "execution_count": 5,
   "metadata": {},
   "outputs": [
    {
     "name": "stdout",
     "output_type": "stream",
     "text": [
      "2.09 s ± 7.72 ms per loop (mean ± std. dev. of 7 runs, 1 loop each)\n"
     ]
    }
   ],
   "source": [
    "%%timeit\n",
    "composeExpression2(\"5000060000\", -10000)"
   ]
  },
  {
   "cell_type": "code",
   "execution_count": 6,
   "metadata": {},
   "outputs": [
    {
     "data": {
      "text/plain": [
       "['50000-60000']"
      ]
     },
     "execution_count": 6,
     "metadata": {},
     "output_type": "execute_result"
    }
   ],
   "source": [
    "composeExpression(\"5000060000\", -10000)"
   ]
  },
  {
   "cell_type": "code",
   "execution_count": 7,
   "metadata": {},
   "outputs": [
    {
     "data": {
      "text/plain": [
       "['2*0*3*0',\n",
       " '2*0*3+0',\n",
       " '2*0*3-0',\n",
       " '2*0*30',\n",
       " '2*0+3*0',\n",
       " '2*0-3*0',\n",
       " '20*3*0',\n",
       " '203*0']"
      ]
     },
     "execution_count": 7,
     "metadata": {},
     "output_type": "execute_result"
    }
   ],
   "source": [
    "composeExpression(\"2030\", 0)"
   ]
  }
 ],
 "metadata": {
  "kernelspec": {
   "display_name": "Python 3",
   "language": "python",
   "name": "python3"
  },
  "language_info": {
   "codemirror_mode": {
    "name": "ipython",
    "version": 3
   },
   "file_extension": ".py",
   "mimetype": "text/x-python",
   "name": "python",
   "nbconvert_exporter": "python",
   "pygments_lexer": "ipython3",
   "version": "3.8.2"
  }
 },
 "nbformat": 4,
 "nbformat_minor": 4
}
