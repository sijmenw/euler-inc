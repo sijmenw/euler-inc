{
 "cells": [
  {
   "cell_type": "markdown",
   "metadata": {},
   "source": [
    "# Truncatable primes\n",
    "\n",
    "The number 3797 has an interesting property. Being prime itself, it is possible to continuously remove digits from left to right, and remain prime at each stage: 3797, 797, 97, and 7. Similarly we can work from right to left: 3797, 379, 37, and 3.\n",
    "\n",
    "Find the sum of the only eleven primes that are both truncatable from left to right and right to left.\n",
    "\n",
    "NOTE: 2, 3, 5, and 7 are not considered to be truncatable primes.\n",
    "\n"
   ]
  },
  {
   "cell_type": "code",
   "execution_count": 1,
   "metadata": {},
   "outputs": [],
   "source": [
    "import math"
   ]
  },
  {
   "cell_type": "code",
   "execution_count": 2,
   "metadata": {},
   "outputs": [],
   "source": [
    "def is_prime(n):\n",
    "    if n == 1:\n",
    "        return False\n",
    "    \n",
    "    for i in range(2, int(math.sqrt(n)+1)):\n",
    "        if n % i == 0:\n",
    "            return False\n",
    "    return True\n",
    "\n",
    "assert is_prime(1) is False\n",
    "assert is_prime(2)\n",
    "assert is_prime(9) is False\n",
    "assert is_prime(11)"
   ]
  },
  {
   "cell_type": "code",
   "execution_count": 3,
   "metadata": {},
   "outputs": [],
   "source": [
    "def is_trunc(n):\n",
    "    n2 = n\n",
    "    \n",
    "    while n > 0:\n",
    "        if not is_prime(n):\n",
    "            return False\n",
    "        n = n // 10\n",
    "    \n",
    "    for i in range(1, len(str(n2))):\n",
    "        if not is_prime(int(str(n2)[i:])):\n",
    "            return False\n",
    "    \n",
    "    return True\n",
    "\n",
    "assert is_trunc(3797)\n",
    "assert is_trunc(29) is False\n",
    "assert is_trunc(17) is False"
   ]
  },
  {
   "cell_type": "code",
   "execution_count": 4,
   "metadata": {},
   "outputs": [
    {
     "name": "stdout",
     "output_type": "stream",
     "text": [
      "Truncable primes: [23, 37, 53, 73, 313, 317, 373, 797, 3137, 3797, 739397]\n",
      "Answer: 748317\n"
     ]
    }
   ],
   "source": [
    "truncs = []\n",
    "n = 11\n",
    "\n",
    "while len(truncs) < 11:\n",
    "    if is_trunc(n):\n",
    "        truncs.append(n)\n",
    "    n += 1\n",
    "\n",
    "print(f\"Truncable primes: {truncs}\")\n",
    "print(f\"Answer: {sum(truncs)}\")"
   ]
  },
  {
   "cell_type": "code",
   "execution_count": null,
   "metadata": {},
   "outputs": [],
   "source": []
  }
 ],
 "metadata": {
  "kernelspec": {
   "display_name": "Python 3",
   "language": "python",
   "name": "python3"
  },
  "language_info": {
   "codemirror_mode": {
    "name": "ipython",
    "version": 3
   },
   "file_extension": ".py",
   "mimetype": "text/x-python",
   "name": "python",
   "nbconvert_exporter": "python",
   "pygments_lexer": "ipython3",
   "version": "3.8.2"
  }
 },
 "nbformat": 4,
 "nbformat_minor": 4
}
