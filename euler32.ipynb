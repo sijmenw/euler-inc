{
 "cells": [
  {
   "cell_type": "markdown",
   "metadata": {},
   "source": [
    "# Problem 32 - Project Euler\n",
    "Full description:\n",
    "We shall say that an n-digit number is pandigital if it makes use of all the digits 1 to n exactly once; for example, the 5-digit number, 15234, is 1 through 5 pandigital.\n",
    "\n",
    "The product 7254 is unusual, as the identity, 39 × 186 = 7254, containing multiplicand, multiplier, and product is 1 through 9 pandigital.\n",
    "\n",
    "Find the sum of all products whose multiplicand/multiplier/product identity can be written as a 1 through 9 pandigital.\n",
    "\n",
    "HINT: Some products can be obtained in more than one way so be sure to only include it once in your sum.\n",
    "\n",
    "Original link: https://projecteuler.net/problem=32"
   ]
  },
  {
   "cell_type": "code",
   "execution_count": 1,
   "metadata": {},
   "outputs": [],
   "source": [
    "import math\n",
    "import numpy as np"
   ]
  },
  {
   "cell_type": "code",
   "execution_count": 2,
   "metadata": {},
   "outputs": [],
   "source": [
    "def is_pandigital_9(n_str):\n",
    "    if '0' in n_str or len(n_str) != 9:\n",
    "        return False\n",
    "    \n",
    "    if len(set(n_str)) == 9:\n",
    "        return True\n",
    "    \n",
    "    return False\n",
    "\n",
    "assert is_pandigital_9('123456789') == True\n",
    "assert is_pandigital_9('12345678') == False\n",
    "assert is_pandigital_9('1234567899') == False\n",
    "assert is_pandigital_9('123456') == False"
   ]
  },
  {
   "cell_type": "code",
   "execution_count": 3,
   "metadata": {},
   "outputs": [],
   "source": [
    "corrects = []\n",
    "\n",
    "# check all numbers up to 1e4\n",
    "for i in range(1, 10000):\n",
    "    \n",
    "    # check all divisors up to the square root of number\n",
    "    for divisor in range(1, int(math.isqrt(i))):\n",
    "        n = i / divisor\n",
    "        \n",
    "        # whole number check (taking float inaccuracy into account)\n",
    "        if n % 1 < 0.00000001:\n",
    "            \n",
    "            # if pandigital 1-9, add and do not check other divisors for this number\n",
    "            if is_pandigital_9(str(i) + str(divisor) + str(int(n))):\n",
    "                corrects.append([divisor, int(n), i])\n",
    "                break"
   ]
  },
  {
   "cell_type": "code",
   "execution_count": 4,
   "metadata": {},
   "outputs": [
    {
     "name": "stdout",
     "output_type": "stream",
     "text": [
      "First 10 possibilities: [[28, 157, 4396], [18, 297, 5346], [12, 483, 5796], [4, 1738, 6952], [39, 186, 7254], [48, 159, 7632], [4, 1963, 7852]]\n",
      "Last 10 possibilities: [[28, 157, 4396], [18, 297, 5346], [12, 483, 5796], [4, 1738, 6952], [39, 186, 7254], [48, 159, 7632], [4, 1963, 7852]]\n"
     ]
    }
   ],
   "source": [
    "print(f\"First 10 possibilities: {corrects[:10]}\")\n",
    "print(f\"Last 10 possibilities: {corrects[-10:]}\")"
   ]
  },
  {
   "cell_type": "code",
   "execution_count": 5,
   "metadata": {},
   "outputs": [
    {
     "name": "stdout",
     "output_type": "stream",
     "text": [
      "The answer is: 45228\n"
     ]
    }
   ],
   "source": [
    "answer = np.sum(np.array(corrects)[:, 2])\n",
    "print(f\"The answer is: {answer}\")"
   ]
  }
 ],
 "metadata": {
  "kernelspec": {
   "display_name": "Python 3",
   "language": "python",
   "name": "python3"
  },
  "language_info": {
   "codemirror_mode": {
    "name": "ipython",
    "version": 3
   },
   "file_extension": ".py",
   "mimetype": "text/x-python",
   "name": "python",
   "nbconvert_exporter": "python",
   "pygments_lexer": "ipython3",
   "version": "3.8.2"
  }
 },
 "nbformat": 4,
 "nbformat_minor": 4
}
