{
 "cells": [
  {
   "cell_type": "code",
   "execution_count": 15,
   "metadata": {},
   "outputs": [],
   "source": [
    "def is_abun(x):\n",
    "    s = 0\n",
    "    for i in range(1, x // 2 + 1):\n",
    "        if x % i == 0:\n",
    "            s += i\n",
    "    return s > x"
   ]
  },
  {
   "cell_type": "code",
   "execution_count": 18,
   "metadata": {},
   "outputs": [
    {
     "name": "stdout",
     "output_type": "stream",
     "text": [
      "abuns: 6965\n",
      " sums: 53871\n",
      "result is\n",
      "4179871\n"
     ]
    }
   ],
   "source": [
    "abun = []\n",
    "for i in range(28123):\n",
    "    if is_abun(i):\n",
    "        abun.append(i)\n",
    "\n",
    "sums = []\n",
    "\n",
    "print(f\"abuns: {len(abun)}\")\n",
    "\n",
    "for x in abun:\n",
    "    for y in abun:\n",
    "        sums.append(x+y)\n",
    "\n",
    "sums = set(sums)\n",
    "\n",
    "print(f\" sums: {len(sums)}\")\n",
    "\n",
    "result = 0\n",
    "\n",
    "for i in range(28123):\n",
    "    if i not in sums:\n",
    "        result += i\n",
    "\n",
    "print(\"result is\")\n",
    "print(result)"
   ]
  }
 ],
 "metadata": {
  "kernelspec": {
   "display_name": "Python 3",
   "language": "python",
   "name": "python3"
  },
  "language_info": {
   "codemirror_mode": {
    "name": "ipython",
    "version": 3
   },
   "file_extension": ".py",
   "mimetype": "text/x-python",
   "name": "python",
   "nbconvert_exporter": "python",
   "pygments_lexer": "ipython3",
   "version": "3.8.2"
  }
 },
 "nbformat": 4,
 "nbformat_minor": 4
}
