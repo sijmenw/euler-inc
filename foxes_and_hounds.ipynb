{
 "cells": [
  {
   "cell_type": "markdown",
   "metadata": {},
   "source": [
    "# 5 Foxes, 7 Hounds\n",
    "\n",
    "5 foxes and 7 hounds run into a foxhole, they get jumbled up so orderings are equally likely.\n",
    "\n",
    "They all run out of the hole in a neat line, on average, how many foxes are immediately followed by a hound?"
   ]
  },
  {
   "cell_type": "code",
   "execution_count": 1,
   "metadata": {},
   "outputs": [],
   "source": [
    "import math\n",
    "import itertools\n",
    "import numpy as np"
   ]
  },
  {
   "cell_type": "code",
   "execution_count": 2,
   "metadata": {},
   "outputs": [],
   "source": [
    "n_f = 5\n",
    "n_h = 7\n",
    "animals = [\"F\" for i  in range(n_f)] + [\"H\" for i  in range(n_h)]\n",
    "total_n = math.factorial(len(animals))"
   ]
  },
  {
   "cell_type": "code",
   "execution_count": 3,
   "metadata": {},
   "outputs": [
    {
     "name": "stdout",
     "output_type": "stream",
     "text": [
      "Animals: ['F', 'F', 'F', 'F', 'F', 'H', 'H', 'H', 'H', 'H', 'H', 'H']\n",
      "Combinations: 479001600\n"
     ]
    }
   ],
   "source": [
    "print(\"Animals:\", animals)\n",
    "print(f\"Combinations: {total_n}\")"
   ]
  },
  {
   "cell_type": "code",
   "execution_count": 4,
   "metadata": {},
   "outputs": [],
   "source": [
    "def count_fh(line):\n",
    "    result = 0\n",
    "    for i in range(n_f+n_h-1):\n",
    "        if line[i] == \"F\" and line[i+1] == \"H\":\n",
    "            result += 1\n",
    "    \n",
    "    return result"
   ]
  },
  {
   "cell_type": "code",
   "execution_count": null,
   "metadata": {},
   "outputs": [],
   "source": [
    "# Get all permutations of animals\n",
    "perm = itertools.permutations(animals) \n",
    "\n",
    "counter = 0\n",
    "counts = []\n",
    "\n",
    "# Loop through and count\n",
    "for line in perm:\n",
    "    n = count_fh(line)\n",
    "    counts.append(n)\n",
    "    \n",
    "    counter += 1\n",
    "    \n",
    "    if counter % 10000000 == 0:\n",
    "        print(f\"{counter} / {total_n}\")"
   ]
  },
  {
   "cell_type": "code",
   "execution_count": 7,
   "metadata": {},
   "outputs": [
    {
     "data": {
      "text/plain": [
       "2.9166666666666665"
      ]
     },
     "execution_count": 7,
     "metadata": {},
     "output_type": "execute_result"
    }
   ],
   "source": [
    "np.average(counts)"
   ]
  },
  {
   "cell_type": "code",
   "execution_count": null,
   "metadata": {},
   "outputs": [],
   "source": []
  }
 ],
 "metadata": {
  "kernelspec": {
   "display_name": "Python 3",
   "language": "python",
   "name": "python3"
  },
  "language_info": {
   "codemirror_mode": {
    "name": "ipython",
    "version": 3
   },
   "file_extension": ".py",
   "mimetype": "text/x-python",
   "name": "python",
   "nbconvert_exporter": "python",
   "pygments_lexer": "ipython3",
   "version": "3.8.2"
  }
 },
 "nbformat": 4,
 "nbformat_minor": 4
}
