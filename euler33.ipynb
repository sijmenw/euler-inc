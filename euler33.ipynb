{
 "cells": [
  {
   "cell_type": "markdown",
   "metadata": {},
   "source": [
    "# Problem 33 - Project Euler\n",
    "The fraction 49/98 is a curious fraction, as an inexperienced mathematician in attempting to simplify it may incorrectly believe that 49/98 = 4/8, which is correct, is obtained by cancelling the 9s.\n",
    "\n",
    "We shall consider fractions like, 30/50 = 3/5, to be trivial examples.\n",
    "\n",
    "There are exactly four non-trivial examples of this type of fraction, less than one in value, and containing two digits in the numerator and denominator.\n",
    "\n",
    "If the product of these four fractions is given in its lowest common terms, find the value of the denominator.\n",
    "\n",
    "original link: https://projecteuler.net/problem=33"
   ]
  },
  {
   "cell_type": "code",
   "execution_count": 1,
   "metadata": {},
   "outputs": [
    {
     "name": "stdout",
     "output_type": "stream",
     "text": [
      "[[16, 64], [19, 95], [26, 65], [49, 98]]\n"
     ]
    }
   ],
   "source": [
    "non_trivs = []\n",
    "\n",
    "for i in range(1, 100):\n",
    "    for j in range(1, 100):\n",
    "        i0, i1 = i//10, i % 10\n",
    "        j0, j1 = j//10, j % 10\n",
    "        \n",
    "        if j1 == 0 or i == j:\n",
    "            continue\n",
    "        \n",
    "        if i1 == j0 and i/j == i0/j1:\n",
    "            non_trivs.append([i, j])\n",
    "\n",
    "print(non_trivs)        "
   ]
  },
  {
   "cell_type": "code",
   "execution_count": 2,
   "metadata": {},
   "outputs": [
    {
     "name": "stdout",
     "output_type": "stream",
     "text": [
      "Final fraction: 387296/38729600\n"
     ]
    }
   ],
   "source": [
    "final_nominator = 1\n",
    "final_denominator = 1\n",
    "for nominator, denominator in non_trivs:\n",
    "    final_nominator *= nominator\n",
    "    final_denominator *= denominator\n",
    "\n",
    "print(f\"Final fraction: {final_nominator}/{final_denominator}\")"
   ]
  }
 ],
 "metadata": {
  "kernelspec": {
   "display_name": "Python 3",
   "language": "python",
   "name": "python3"
  },
  "language_info": {
   "codemirror_mode": {
    "name": "ipython",
    "version": 3
   },
   "file_extension": ".py",
   "mimetype": "text/x-python",
   "name": "python",
   "nbconvert_exporter": "python",
   "pygments_lexer": "ipython3",
   "version": "3.8.2"
  }
 },
 "nbformat": 4,
 "nbformat_minor": 4
}
